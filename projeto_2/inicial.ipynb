# passo 0: instalar dependencias
# !pip install pandas numpy openpyxl nbformat ipykernel plotly

# passo 1: importar base de dados
import pandas as pd

tabela = pd.read_csv('cancelamentos_sample.csv')

# passo 2: visualizar a base de dados
#jupyter
display(tabela) #analisar colunas
display(tabela.info()) #analisar informacoes

'''
.py
print(tabela) #analisar colunas
print(tabela.info()) #analisar informacoes
'''

# passo 3: tratamento de dados
# colunas que nao ajudam, te atrapalham

tabela = tabela.drop(columns='CustomerID')

# valores vazios
tabela = tabela.dropna()

# passo 4: analise inicial -> quantos clientes cancelaram e qual o %
#jupyter
display(tabela['cancelou'].value_counts()) #valores absolutos
display(tabela['cancelou'].value_counts(normalize=True)) #valores em %
'''
.py
print(tabela['cancelou'].value_counts()) #valores absolutos
print(tabela['cancelou'].value_counts(normalize=True)) #valores em %
'''

# passo 5: analise causa cancelamento
# comparar as outras colunas com a coluna de cancelamento
import plotly.express as px

for coluna in tabela.columns:
	#1: criar o grafico
	grafico = px.histogram(tabela, x=coluna, color='cancelou', text_auto=True)

	#2: exibir o grafico
	grafico.show()

# passo 6: hipoteses
#1: usuarios do contrato mensal sempre cancelam
	#evitar contratos mensais incentivar contratos mais longos
tabela = tabela[tabela['duracao_contrato']!='Monthly']

#2: usuarios que ligaram mais de 4X para o callcenter cancelaram
	#criar um processo q clientes com 3 ligacoes precisam ter prioridade
tabela = tabela[tabela['ligacoes_callcenter']<=4]

#3: usuarios que atrasaram pagamento com mais de 20 dias, cancelaram
	#contactar cliente com 15 dias
tabela = tabela[tabela['dias_atraso']<=20]

{
 "cells": [
  {
   "cell_type": "markdown",
   "metadata": {},
   "source": [
    "# Python Insights - Analisando Dados com Python\n",
    "\n",
    "### Case - Cancelamento de Clientes\n",
    "\n",
    "Você foi contratado por uma empresa com mais de 800 mil clientes para um projeto de Dados. Recentemente a empresa percebeu que da sua base total de clientes, a maioria são clientes inativos, ou seja, que já cancelaram o serviço.\n",
    "\n",
    "Precisando melhorar seus resultados ela quer conseguir entender os principais motivos desses cancelamentos e quais as ações mais eficientes para reduzir esse número.\n",
    "\n",
    "Base de dados e arquivos: https://drive.google.com/drive/folders/1uDesZePdkhiraJmiyeZ-w5tfc8XsNYFZ?usp=drive_link"
   ]
  },
  {
   "cell_type": "code",
   "execution_count": null,
   "metadata": {},
   "outputs": [],
   "source": []
  }
 ],
 "metadata": {
  "kernelspec": {
   "display_name": "base",
   "language": "python",
   "name": "python3"
  },
  "language_info": {
   "codemirror_mode": {
    "name": "ipython",
    "version": 3
   },
   "file_extension": ".py",
   "mimetype": "text/x-python",
   "name": "python",
   "nbconvert_exporter": "python",
   "pygments_lexer": "ipython3",
   "version": "3.10.9"
  },
  "orig_nbformat": 4
 },
 "nbformat": 4,
 "nbformat_minor": 2
}
