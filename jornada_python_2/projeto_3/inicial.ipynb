#passo 0: entender a empresa e o desafio da empresa, e escolher e instalar as ferramentas certas
# !pip install pandas scikit-learn

#passo 1: importar a base de dados
import pandas as pd
tabela = pd.read_csv('clientes.csv')
display(tabela)
display.info(tabela)

#passo 2: preparar a base de dados para a ia
#transformando char em int
from sklearn.preprocessing import LabelEncoder

codificador_profissao = LabelEncoder()
tabela['profissao'] = codificador_profissao.fit_transform(tabela['profissao'])

codificador_credito = LabelEncoder()
tabela['mix_credito'] = codificador_credito.fit_transform(tabela['mix_credito'])

codificador_pagamento = LabelEncoder()
tabela['comportamento_pagamento'] = codificador_pagamento.fit_transform(tabela['comportamento_pagamento'])

#dividir colunas a analisar e coluna a prever
y = tabela['score_credito']
x = tabela.drop(columns=['score_credito', 'id_cliente'])

#dividir entre treino e testes
from sklearn.model_selection train_test_split

#nome das variaveis nao importa apenas a ordem
x_treino, x_teste, y_treino, y_teste = train_test_split(x, y, test_size=0.3)

#passo 3: treinar a ia
#importar 2 modelos de ia
#arvore de decisao -> RandomForest
from sklearn.ensemble import RandomForestClassifier

#vizinhos proximos -> KNN(nearest neighbors)
from sklearn.neighbors import KNeighborsClassifier

#criar as ias
modelo_arvore = RandomForestClassifier() 
modelo_knn = KNeighborsClassifier()

#treinar as ias
modelo_arvore.fit(x_treino, y_treino)
modelo_knn.fit(x_treino, y_treino)

#passo 4: escolher o melhor modelo
from sklearn.metrics import accuracy_score

previsao_arvore = modelo_arvore.predict(x_teste)
previsao_knn = modelo_knn.predict(x_teste)

display(accuracy_score(y_teste, previsao_arvore))
display(accuracy_score(y_teste, previsao_knn))
#melhor modelo para o problema eh arvore de decisao

#passo 5: usar o melhor modelo
#importar base de dados a analisar
tabela_novos_clientes = pd.read_csv('novos_clientes.csv')
tabela_novos_clientes['profissao'] = codificador_profissao.transform(
	tabela_novos_clientes['profissao'])
tabela_novos_clientes['mix_credito'] = codificador_credito.transform(
	tabela_novos_clientes['mix_credito'])
tabela_novos_clientes['comportamento_pagamento'] = codificador_pagamento.transform(
	tabela_novos_clientes['comportamento_pagamento'])

nova_previsao = modelo_arvore.predict(tabela_novos_clientes)
display(nova_previsao)



{
 "cells": [
  {
   "cell_type": "markdown",
   "metadata": {},
   "source": [
    "# Projeto Python IA: Inteligência Artificial e Previsões\n",
    "\n",
    "### Case: Score de Crédito dos Clientes\n",
    "\n",
    "Você foi contratado por um banco para conseguir definir o score de crédito dos clientes. Você precisa analisar todos os clientes do banco e, com base nessa análise, criar um modelo que consiga ler as informações do cliente e dizer automaticamente o score de crédito dele: Ruim, Ok, Bom\n",
    "\n",
    "Arquivos da aula: https://drive.google.com/drive/folders/1FbDqVq4XLvU85VBlVIMJ73p9oOu6u2-J?usp=drive_link"
   ]
  },
  {
   "cell_type": "code",
   "execution_count": null,
   "metadata": {},
   "outputs": [],
   "source": []
  }
 ],
 "metadata": {
  "kernelspec": {
   "display_name": "Python 3",
   "language": "python",
   "name": "python3"
  },
  "language_info": {
   "codemirror_mode": {
    "name": "ipython",
    "version": 3
   },
   "file_extension": ".py",
   "mimetype": "text/x-python",
   "name": "python",
   "nbconvert_exporter": "python",
   "pygments_lexer": "ipython3",
   "version": "3.11.4"
  },
  "orig_nbformat": 4
 },
 "nbformat": 4,
 "nbformat_minor": 2
}
